{
 "cells": [
  {
   "cell_type": "code",
   "execution_count": 1,
   "metadata": {
    "collapsed": false,
    "scrolled": true
   },
   "outputs": [
    {
     "name": "stdout",
     "output_type": "stream",
     "text": [
      "Populating the interactive namespace from numpy and matplotlib\n"
     ]
    },
    {
     "data": {
      "text/html": [
       "<div>\n",
       "<style scoped>\n",
       "    .dataframe tbody tr th:only-of-type {\n",
       "        vertical-align: middle;\n",
       "    }\n",
       "\n",
       "    .dataframe tbody tr th {\n",
       "        vertical-align: top;\n",
       "    }\n",
       "\n",
       "    .dataframe thead th {\n",
       "        text-align: right;\n",
       "    }\n",
       "</style>\n",
       "<table border=\"1\" class=\"dataframe\">\n",
       "  <thead>\n",
       "    <tr style=\"text-align: right;\">\n",
       "      <th></th>\n",
       "      <th>App</th>\n",
       "      <th>Category</th>\n",
       "      <th>Rating</th>\n",
       "      <th>Reviews</th>\n",
       "      <th>Size</th>\n",
       "      <th>Installs</th>\n",
       "      <th>Type</th>\n",
       "      <th>Price</th>\n",
       "      <th>Content Rating</th>\n",
       "      <th>Genres</th>\n",
       "      <th>Last Updated</th>\n",
       "      <th>Current Ver</th>\n",
       "      <th>Android Ver</th>\n",
       "    </tr>\n",
       "  </thead>\n",
       "  <tbody>\n",
       "    <tr>\n",
       "      <th>0</th>\n",
       "      <td>Photo Editor &amp; Candy Camera &amp; Grid &amp; ScrapBook</td>\n",
       "      <td>ART_AND_DESIGN</td>\n",
       "      <td>4.1</td>\n",
       "      <td>159</td>\n",
       "      <td>19M</td>\n",
       "      <td>10,000+</td>\n",
       "      <td>Free</td>\n",
       "      <td>0</td>\n",
       "      <td>Everyone</td>\n",
       "      <td>Art &amp; Design</td>\n",
       "      <td>January 7, 2018</td>\n",
       "      <td>1.0.0</td>\n",
       "      <td>4.0.3 and up</td>\n",
       "    </tr>\n",
       "    <tr>\n",
       "      <th>1</th>\n",
       "      <td>Coloring book moana</td>\n",
       "      <td>ART_AND_DESIGN</td>\n",
       "      <td>3.9</td>\n",
       "      <td>967</td>\n",
       "      <td>14M</td>\n",
       "      <td>500,000+</td>\n",
       "      <td>Free</td>\n",
       "      <td>0</td>\n",
       "      <td>Everyone</td>\n",
       "      <td>Art &amp; Design;Pretend Play</td>\n",
       "      <td>January 15, 2018</td>\n",
       "      <td>2.0.0</td>\n",
       "      <td>4.0.3 and up</td>\n",
       "    </tr>\n",
       "    <tr>\n",
       "      <th>2</th>\n",
       "      <td>U Launcher Lite – FREE Live Cool Themes, Hide ...</td>\n",
       "      <td>ART_AND_DESIGN</td>\n",
       "      <td>4.7</td>\n",
       "      <td>87510</td>\n",
       "      <td>8.7M</td>\n",
       "      <td>5,000,000+</td>\n",
       "      <td>Free</td>\n",
       "      <td>0</td>\n",
       "      <td>Everyone</td>\n",
       "      <td>Art &amp; Design</td>\n",
       "      <td>August 1, 2018</td>\n",
       "      <td>1.2.4</td>\n",
       "      <td>4.0.3 and up</td>\n",
       "    </tr>\n",
       "    <tr>\n",
       "      <th>3</th>\n",
       "      <td>Sketch - Draw &amp; Paint</td>\n",
       "      <td>ART_AND_DESIGN</td>\n",
       "      <td>4.5</td>\n",
       "      <td>215644</td>\n",
       "      <td>25M</td>\n",
       "      <td>50,000,000+</td>\n",
       "      <td>Free</td>\n",
       "      <td>0</td>\n",
       "      <td>Teen</td>\n",
       "      <td>Art &amp; Design</td>\n",
       "      <td>June 8, 2018</td>\n",
       "      <td>Varies with device</td>\n",
       "      <td>4.2 and up</td>\n",
       "    </tr>\n",
       "    <tr>\n",
       "      <th>4</th>\n",
       "      <td>Pixel Draw - Number Art Coloring Book</td>\n",
       "      <td>ART_AND_DESIGN</td>\n",
       "      <td>4.3</td>\n",
       "      <td>967</td>\n",
       "      <td>2.8M</td>\n",
       "      <td>100,000+</td>\n",
       "      <td>Free</td>\n",
       "      <td>0</td>\n",
       "      <td>Everyone</td>\n",
       "      <td>Art &amp; Design;Creativity</td>\n",
       "      <td>June 20, 2018</td>\n",
       "      <td>1.1</td>\n",
       "      <td>4.4 and up</td>\n",
       "    </tr>\n",
       "  </tbody>\n",
       "</table>\n",
       "</div>"
      ],
      "text/plain": [
       "                                                 App        Category  Rating  \\\n",
       "0     Photo Editor & Candy Camera & Grid & ScrapBook  ART_AND_DESIGN     4.1   \n",
       "1                                Coloring book moana  ART_AND_DESIGN     3.9   \n",
       "2  U Launcher Lite – FREE Live Cool Themes, Hide ...  ART_AND_DESIGN     4.7   \n",
       "3                              Sketch - Draw & Paint  ART_AND_DESIGN     4.5   \n",
       "4              Pixel Draw - Number Art Coloring Book  ART_AND_DESIGN     4.3   \n",
       "\n",
       "  Reviews  Size     Installs  Type Price Content Rating  \\\n",
       "0     159   19M      10,000+  Free     0       Everyone   \n",
       "1     967   14M     500,000+  Free     0       Everyone   \n",
       "2   87510  8.7M   5,000,000+  Free     0       Everyone   \n",
       "3  215644   25M  50,000,000+  Free     0           Teen   \n",
       "4     967  2.8M     100,000+  Free     0       Everyone   \n",
       "\n",
       "                      Genres      Last Updated         Current Ver  \\\n",
       "0               Art & Design   January 7, 2018               1.0.0   \n",
       "1  Art & Design;Pretend Play  January 15, 2018               2.0.0   \n",
       "2               Art & Design    August 1, 2018               1.2.4   \n",
       "3               Art & Design      June 8, 2018  Varies with device   \n",
       "4    Art & Design;Creativity     June 20, 2018                 1.1   \n",
       "\n",
       "    Android Ver  \n",
       "0  4.0.3 and up  \n",
       "1  4.0.3 and up  \n",
       "2  4.0.3 and up  \n",
       "3    4.2 and up  \n",
       "4    4.4 and up  "
      ]
     },
     "execution_count": 1,
     "metadata": {},
     "output_type": "execute_result"
    }
   ],
   "source": [
    "#import & load\n",
    "import pandas as pd\n",
    "import numpy as np\n",
    "import matplotlib.pyplot as plt\n",
    "from dateutil import parser\n",
    "\n",
    "%pylab inline\n",
    "pylab.rcParams['figure.figsize'] = (16, 9)\n",
    "\n",
    "df_apps = pd.read_csv('googleplaystore_origin.csv')\n",
    "df_apps.head()"
   ]
  },
  {
   "cell_type": "code",
   "execution_count": 2,
   "metadata": {
    "collapsed": false
   },
   "outputs": [
    {
     "name": "stdout",
     "output_type": "stream",
     "text": [
      "App <class 'str'>\n",
      "Category <class 'str'>\n",
      "Rating <class 'numpy.float64'>\n",
      "Reviews <class 'str'>\n",
      "Size <class 'str'>\n",
      "Installs <class 'str'>\n",
      "Type <class 'str'>\n",
      "Price <class 'str'>\n",
      "Content Rating <class 'str'>\n",
      "Genres <class 'str'>\n",
      "Last Updated <class 'str'>\n",
      "Current Ver <class 'str'>\n",
      "Android Ver <class 'str'>\n"
     ]
    }
   ],
   "source": [
    "for col in df_apps.columns:\n",
    "    print(col, type(df_apps[col][1]))"
   ]
  },
  {
   "cell_type": "code",
   "execution_count": 3,
   "metadata": {
    "collapsed": false
   },
   "outputs": [],
   "source": [
    "#row 10472 doesn't have value for category; its following values are shifted\n",
    "#shift the row to make it right\n",
    "df_apps.iloc[10472] = df_apps.iloc[10472].shift(1)\n",
    "df_apps.loc[10472, 'App'] = df_apps.loc[10472, 'Category']\n",
    "df_apps.loc[10472, 'Category'] = ''"
   ]
  },
  {
   "cell_type": "code",
   "execution_count": 4,
   "metadata": {
    "collapsed": false
   },
   "outputs": [],
   "source": [
    "#data type transformations\n",
    "def to_int(x):\n",
    "    if ''.join(str(x).split('.')).isdigit():\n",
    "        return int(x)\n",
    "    else:\n",
    "        print('not digit',x)\n",
    "        \n",
    "def size_to_float(x):\n",
    "    if len(str(x))>0:\n",
    "        out = 0.0\n",
    "        if x[-1] in ['M','m']:\n",
    "            out = float(''.join(x[:-1].split('.'))) * 1000\n",
    "        elif x[-1] in ['K','k']:\n",
    "            out = float(''.join(x[:-1].split('.')))\n",
    "        else:\n",
    "            out = -1\n",
    "        return out\n",
    "    else:\n",
    "        return 0\n",
    "    \n",
    "def install_to_int(x):\n",
    "    if x[-1] == '+':\n",
    "        return int(''.join(x[:-1].split(',')))\n",
    "    else:\n",
    "        return 0\n",
    "    \n",
    "def price_to_float(x):\n",
    "    if x[0] == '$':\n",
    "        return float(''.join(x[1:].split('.')))\n",
    "    else:\n",
    "        return 0.0\n",
    "    \n",
    "def str_to_date(x):\n",
    "    try:\n",
    "        dt = parser.parse(x)\n",
    "        return dt\n",
    "    except:\n",
    "        print('problem date:', x)\n",
    "    \n",
    "df_apps.Reviews = df_apps.Reviews.apply(to_int)\n",
    "df_apps.Size = df_apps.Size.apply(size_to_float)\n",
    "\n",
    "#keeping original Installs column\n",
    "df_apps['installs_int'] = df_apps.Installs.apply(install_to_int)\n",
    "df_apps.Price = df_apps.Price.apply(price_to_float)\n",
    "df_apps['Last Updated'] = df_apps['Last Updated'].apply(str_to_date)"
   ]
  },
  {
   "cell_type": "code",
   "execution_count": 5,
   "metadata": {
    "collapsed": false
   },
   "outputs": [
    {
     "data": {
      "text/plain": [
       "array(['ART_AND_DESIGN', 'AUTO_AND_VEHICLES', 'BEAUTY',\n",
       "       'BOOKS_AND_REFERENCE', 'BUSINESS', 'COMICS', 'COMMUNICATION',\n",
       "       'DATING', 'EDUCATION', 'ENTERTAINMENT', 'EVENTS', 'FINANCE',\n",
       "       'FOOD_AND_DRINK', 'HEALTH_AND_FITNESS', 'HOUSE_AND_HOME',\n",
       "       'LIBRARIES_AND_DEMO', 'LIFESTYLE', 'GAME', 'FAMILY', 'MEDICAL',\n",
       "       'SOCIAL', 'SHOPPING', 'PHOTOGRAPHY', 'SPORTS', 'TRAVEL_AND_LOCAL',\n",
       "       'TOOLS', 'PERSONALIZATION', 'PRODUCTIVITY', 'PARENTING', 'WEATHER',\n",
       "       'VIDEO_PLAYERS', 'NEWS_AND_MAGAZINES', 'MAPS_AND_NAVIGATION', ''], dtype=object)"
      ]
     },
     "execution_count": 5,
     "metadata": {},
     "output_type": "execute_result"
    }
   ],
   "source": [
    "#encode Category only\n",
    "#not encoding type, since price will be 0 if type is free\n",
    "#not using Genre for now\n",
    "#compare different methods of encoding, do it later\n",
    "\n",
    "df_apps.Category.unique()"
   ]
  },
  {
   "cell_type": "code",
   "execution_count": 6,
   "metadata": {
    "collapsed": false
   },
   "outputs": [
    {
     "name": "stdout",
     "output_type": "stream",
     "text": [
      "10841 9660\n",
      "9660 9660\n"
     ]
    }
   ],
   "source": [
    "#what's up with the repititions?\n",
    "#it appears that data on the same app might have been collected mulitple times\n",
    "#only keep the record with the largest number of reviews\n",
    "\n",
    "print(len(df_apps), len(df_apps.App.unique()))\n",
    "duplications = df_apps.App.value_counts()[df_apps.App.value_counts() > 1]\n",
    "\n",
    "\n",
    "for app in duplications.keys():\n",
    "    appearances = df_apps[df_apps.App == app]\n",
    "    drop_i = appearances.sort_values('Reviews', ascending=False).index[1:]\n",
    "    df_apps.drop(drop_i, inplace=True)\n",
    "    \n",
    "print(len(df_apps), len(df_apps.App.unique()))"
   ]
  },
  {
   "cell_type": "code",
   "execution_count": 7,
   "metadata": {
    "collapsed": false
   },
   "outputs": [
    {
     "data": {
      "text/plain": [
       "6982"
      ]
     },
     "execution_count": 7,
     "metadata": {},
     "output_type": "execute_result"
    }
   ],
   "source": [
    "#excluding apps with less than 5000 installs\n",
    "drop_i = df_apps[df_apps.installs_int < 5000].index\n",
    "df_apps.drop(drop_i, inplace=True)\n",
    "len(df_apps)"
   ]
  },
  {
   "cell_type": "code",
   "execution_count": 8,
   "metadata": {
    "collapsed": false
   },
   "outputs": [],
   "source": [
    "#construct extra columns\n",
    "\n",
    "#reviews per install\n",
    "df_apps['reviews_per_install'] = df_apps.Reviews/df_apps.installs_int\n",
    "\n",
    "#days from last update to 20180831\n",
    "end_date = datetime.datetime(2018,8,31,0,0,0)\n",
    "def get_delta(x):\n",
    "    d = end_date - x\n",
    "    return d.days\n",
    "df_apps['updated_delta'] = df_apps['Last Updated'].apply(get_delta)"
   ]
  },
  {
   "cell_type": "code",
   "execution_count": 9,
   "metadata": {
    "collapsed": false
   },
   "outputs": [
    {
     "name": "stdout",
     "output_type": "stream",
     "text": [
      "FAMILY    1360\n",
      "GAME       834\n",
      "TOOLS      603\n",
      "others    4185\n",
      "Name: Category, dtype: int64\n"
     ]
    },
    {
     "data": {
      "text/plain": [
       "Index(['App', 'Category', 'Rating', 'Reviews', 'Size', 'Installs', 'Type',\n",
       "       'Price', 'Content Rating', 'Genres', 'Last Updated', 'Current Ver',\n",
       "       'Android Ver', 'installs_int', 'reviews_per_install', 'updated_delta'],\n",
       "      dtype='object')"
      ]
     },
     "execution_count": 9,
     "metadata": {},
     "output_type": "execute_result"
    }
   ],
   "source": [
    "s = df_apps['Category'].value_counts()\n",
    "thr = 4\n",
    "\n",
    "tops = s[:thr-1]\n",
    "tops['others'] = s[thr-1:].sum()\n",
    "print(tops)\n",
    "\n",
    "n = 0\n",
    "for item in s[3:]:\n",
    "    n+= item\n",
    "    \n",
    "n\n",
    "df_apps.columns"
   ]
  },
  {
   "cell_type": "code",
   "execution_count": 26,
   "metadata": {
    "collapsed": false
   },
   "outputs": [
    {
     "data": {
      "text/plain": [
       "<matplotlib.figure.Figure at 0x1135f2be0>"
      ]
     },
     "metadata": {},
     "output_type": "display_data"
    },
    {
     "data": {
      "image/png": "[encoded data removed]",
      "text/plain": [
       "<matplotlib.figure.Figure at 0x12011a0b8>"
      ]
     },
     "metadata": {},
     "output_type": "display_data"
    }
   ],
   "source": [
    "#comparisons of top100 and all\n",
    "pylab.rcParams['figure.figsize'] = (16, 30)\n",
    "\n",
    "#picking out the best apps\n",
    "df_apps['rating_installs'] = df_apps.Rating * df_apps.installs_int\n",
    "top_100 = df_apps.sort_values('rating_installs', ascending=False)[:100]\n",
    "\n",
    "def comp_hist(col, ax):\n",
    "    ax[0].hist(df_apps[col], bins=30)\n",
    "    ax[0].set_title(col)\n",
    "    ax[0].set_title('All Apps - {}'.format(col))\n",
    "    ax[1].hist(top_100[col], bins=30)\n",
    "    ax[1].set_title(col)\n",
    "    ax[1].set_title('Top 100 - {}'.format(col))\n",
    "    \n",
    "def get_cate_counts(d, col):\n",
    "    thres = 4\n",
    "    cate_counts = d[col].value_counts()\n",
    "    if len(cate_counts) > thres:\n",
    "        tops = cate_counts[:thres-1]\n",
    "        tops['others'] = cate_counts[thres-1:].sum() \n",
    "        cate_counts = tops\n",
    "        \n",
    "    return cate_counts\n",
    "    \n",
    "def comp_pie(col, ax):\n",
    "    cate_all = get_cate_counts(df_apps, col)\n",
    "    cate_top100 = get_cate_counts(top_100, col)\n",
    "    \n",
    "    ax[0].pie(cate_all, labels=cate_all.keys(), autopct='%1.1f%%')\n",
    "    ax[0].axis('equal')\n",
    "    ax[0].set_title('All Apps - {}'.format(col))\n",
    "    ax[1].pie(cate_top100, labels=cate_top100.keys(), autopct='%1.1f%%')\n",
    "    ax[1].axis('equal')\n",
    "    ax[1].set_title('Top 100 - {}'.format(col))\n",
    "    \n",
    "#comp_hist('Rating')\n",
    "#comp_pie('Type')\n",
    "\n",
    "#do comparisons\n",
    "list_col_hist = [\n",
    "    'Rating',\n",
    "    'installs_int',\n",
    "    'updated_delta',\n",
    "    'Size'\n",
    "]\n",
    "\n",
    "fig = plt.figure(figsize=(16,20))\n",
    "f, axarr = plt.subplots(6,2)\n",
    "\n",
    "comp_hist('Rating', axarr[0])\n",
    "comp_hist('installs_int', axarr[1])\n",
    "comp_hist('updated_delta', axarr[2])\n",
    "comp_hist('Size', axarr[3])\n",
    "comp_pie('Category', axarr[4])\n",
    "comp_pie('Type', axarr[5])\n",
    "    \n",
    "plt.show()\n",
    "    "
   ]
  },
  {
   "cell_type": "code",
   "execution_count": null,
   "metadata": {
    "collapsed": true
   },
   "outputs": [],
   "source": [
    "#compare installs & ratings by categories"
   ]
  },
  {
   "cell_type": "code",
   "execution_count": null,
   "metadata": {
    "collapsed": true
   },
   "outputs": [],
   "source": [
    "\n",
    "\n",
    "\n",
    "\n",
    "\n",
    "\n",
    "\n",
    "\n",
    "\n",
    "\n",
    "\n",
    "\n",
    "\n",
    "\n"
   ]
  },
  {
   "cell_type": "code",
   "execution_count": 16,
   "metadata": {
    "collapsed": false
   },
   "outputs": [
    {
     "data": {
      "text/plain": [
       "Index(['App', 'Category', 'Rating', 'Reviews', 'Size', 'Installs', 'Type',\n",
       "       'Price', 'Content Rating', 'Genres', 'Last Updated', 'Current Ver',\n",
       "       'Android Ver', 'installs_int', 'reviews_per_install', 'updated_delta',\n",
       "       'rating_installs'],\n",
       "      dtype='object')"
      ]
     },
     "execution_count": 16,
     "metadata": {},
     "output_type": "execute_result"
    }
   ],
   "source": [
    "df_apps.columns"
   ]
  },
  {
   "cell_type": "code",
   "execution_count": null,
   "metadata": {
    "collapsed": true
   },
   "outputs": [],
   "source": []
  }
 ],
 "metadata": {
  "anaconda-cloud": {},
  "kernelspec": {
   "display_name": "Python [conda env:anaconda]",
   "language": "python",
   "name": "conda-env-anaconda-py"
  },
  "language_info": {
   "codemirror_mode": {
    "name": "ipython",
    "version": 3
   },
   "file_extension": ".py",
   "mimetype": "text/x-python",
   "name": "python",
   "nbconvert_exporter": "python",
   "pygments_lexer": "ipython3",
   "version": "3.5.2"
  }
 },
 "nbformat": 4,
 "nbformat_minor": 1
}
